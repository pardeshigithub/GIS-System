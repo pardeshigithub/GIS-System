{
  "nbformat": 4,
  "nbformat_minor": 0,
  "metadata": {
    "colab": {
      "provenance": [],
      "include_colab_link": true
    },
    "kernelspec": {
      "name": "python3",
      "display_name": "Python 3"
    },
    "language_info": {
      "name": "python"
    }
  },
  "cells": [
    {
      "cell_type": "markdown",
      "metadata": {
        "id": "view-in-github",
        "colab_type": "text"
      },
      "source": [
        "<a href=\"https://colab.research.google.com/github/pardeshigithub/GIS-System/blob/main/Copy_of_GIS_1.ipynb\" target=\"_parent\"><img src=\"https://colab.research.google.com/assets/colab-badge.svg\" alt=\"Open In Colab\"/></a>"
      ]
    },
    {
      "cell_type": "code",
      "execution_count": 1,
      "metadata": {
        "id": "3Sb9gZBnANWV",
        "colab": {
          "base_uri": "https://localhost:8080/",
          "height": 595
        },
        "outputId": "7e08aafe-a847-4351-df79-2e5c5e9562de"
      },
      "outputs": [
        {
          "output_type": "execute_result",
          "data": {
            "text/plain": [
              "<folium.folium.Map at 0x7bf926655930>"
            ],
            "text/html": [
              "<div style=\"width:100%;\"><div style=\"position:relative;width:100%;height:0;padding-bottom:60%;\"><span style=\"color:#565656\">Make this Notebook Trusted to load map: File -> Trust Notebook</span><iframe srcdoc=\"&lt;!DOCTYPE html&gt;\n",
              "&lt;html&gt;\n",
              "&lt;head&gt;\n",
              "    \n",
              "    &lt;meta http-equiv=&quot;content-type&quot; content=&quot;text/html; charset=UTF-8&quot; /&gt;\n",
              "    \n",
              "        &lt;script&gt;\n",
              "            L_NO_TOUCH = false;\n",
              "            L_DISABLE_3D = false;\n",
              "        &lt;/script&gt;\n",
              "    \n",
              "    &lt;style&gt;html, body {width: 100%;height: 100%;margin: 0;padding: 0;}&lt;/style&gt;\n",
              "    &lt;style&gt;#map {position:absolute;top:0;bottom:0;right:0;left:0;}&lt;/style&gt;\n",
              "    &lt;script src=&quot;https://cdn.jsdelivr.net/npm/leaflet@1.9.3/dist/leaflet.js&quot;&gt;&lt;/script&gt;\n",
              "    &lt;script src=&quot;https://code.jquery.com/jquery-1.12.4.min.js&quot;&gt;&lt;/script&gt;\n",
              "    &lt;script src=&quot;https://cdn.jsdelivr.net/npm/bootstrap@5.2.2/dist/js/bootstrap.bundle.min.js&quot;&gt;&lt;/script&gt;\n",
              "    &lt;script src=&quot;https://cdnjs.cloudflare.com/ajax/libs/Leaflet.awesome-markers/2.0.2/leaflet.awesome-markers.js&quot;&gt;&lt;/script&gt;\n",
              "    &lt;link rel=&quot;stylesheet&quot; href=&quot;https://cdn.jsdelivr.net/npm/leaflet@1.9.3/dist/leaflet.css&quot;/&gt;\n",
              "    &lt;link rel=&quot;stylesheet&quot; href=&quot;https://cdn.jsdelivr.net/npm/bootstrap@5.2.2/dist/css/bootstrap.min.css&quot;/&gt;\n",
              "    &lt;link rel=&quot;stylesheet&quot; href=&quot;https://netdna.bootstrapcdn.com/bootstrap/3.0.0/css/bootstrap.min.css&quot;/&gt;\n",
              "    &lt;link rel=&quot;stylesheet&quot; href=&quot;https://cdn.jsdelivr.net/npm/@fortawesome/fontawesome-free@6.2.0/css/all.min.css&quot;/&gt;\n",
              "    &lt;link rel=&quot;stylesheet&quot; href=&quot;https://cdnjs.cloudflare.com/ajax/libs/Leaflet.awesome-markers/2.0.2/leaflet.awesome-markers.css&quot;/&gt;\n",
              "    &lt;link rel=&quot;stylesheet&quot; href=&quot;https://cdn.jsdelivr.net/gh/python-visualization/folium/folium/templates/leaflet.awesome.rotate.min.css&quot;/&gt;\n",
              "    \n",
              "            &lt;meta name=&quot;viewport&quot; content=&quot;width=device-width,\n",
              "                initial-scale=1.0, maximum-scale=1.0, user-scalable=no&quot; /&gt;\n",
              "            &lt;style&gt;\n",
              "                #map_2c8d5949df6ab8e49e76c6488e71469b {\n",
              "                    position: relative;\n",
              "                    width: 100.0%;\n",
              "                    height: 100.0%;\n",
              "                    left: 0.0%;\n",
              "                    top: 0.0%;\n",
              "                }\n",
              "                .leaflet-container { font-size: 1rem; }\n",
              "            &lt;/style&gt;\n",
              "        \n",
              "&lt;/head&gt;\n",
              "&lt;body&gt;\n",
              "    \n",
              "    \n",
              "            &lt;div class=&quot;folium-map&quot; id=&quot;map_2c8d5949df6ab8e49e76c6488e71469b&quot; &gt;&lt;/div&gt;\n",
              "        \n",
              "&lt;/body&gt;\n",
              "&lt;script&gt;\n",
              "    \n",
              "    \n",
              "            var map_2c8d5949df6ab8e49e76c6488e71469b = L.map(\n",
              "                &quot;map_2c8d5949df6ab8e49e76c6488e71469b&quot;,\n",
              "                {\n",
              "                    center: [40.0, -95.0],\n",
              "                    crs: L.CRS.EPSG3857,\n",
              "                    zoom: 4,\n",
              "                    zoomControl: true,\n",
              "                    preferCanvas: false,\n",
              "                }\n",
              "            );\n",
              "\n",
              "            \n",
              "\n",
              "        \n",
              "    \n",
              "            var tile_layer_93f7a9c5d092a77e8041d599b9e9e598 = L.tileLayer(\n",
              "                &quot;https://{s}.tile.openstreetmap.org/{z}/{x}/{y}.png&quot;,\n",
              "                {&quot;attribution&quot;: &quot;Data by \\u0026copy; \\u003ca target=\\&quot;_blank\\&quot; href=\\&quot;http://openstreetmap.org\\&quot;\\u003eOpenStreetMap\\u003c/a\\u003e, under \\u003ca target=\\&quot;_blank\\&quot; href=\\&quot;http://www.openstreetmap.org/copyright\\&quot;\\u003eODbL\\u003c/a\\u003e.&quot;, &quot;detectRetina&quot;: false, &quot;maxNativeZoom&quot;: 18, &quot;maxZoom&quot;: 18, &quot;minZoom&quot;: 0, &quot;noWrap&quot;: false, &quot;opacity&quot;: 1, &quot;subdomains&quot;: &quot;abc&quot;, &quot;tms&quot;: false}\n",
              "            ).addTo(map_2c8d5949df6ab8e49e76c6488e71469b);\n",
              "        \n",
              "    \n",
              "            var marker_f07a3f1ca78cfb5e0b9acd29a217d0cd = L.marker(\n",
              "                [40.0, -95.0],\n",
              "                {}\n",
              "            ).addTo(map_2c8d5949df6ab8e49e76c6488e71469b);\n",
              "        \n",
              "    \n",
              "        var popup_e66444c468a42937b35af65d8f352caa = L.popup({&quot;maxWidth&quot;: &quot;100%&quot;});\n",
              "\n",
              "        \n",
              "            \n",
              "                var html_c0f7d352849d8d06883448ea6c7e8858 = $(`&lt;div id=&quot;html_c0f7d352849d8d06883448ea6c7e8858&quot; style=&quot;width: 100.0%; height: 100.0%;&quot;&gt;Kansas City&lt;/div&gt;`)[0];\n",
              "                popup_e66444c468a42937b35af65d8f352caa.setContent(html_c0f7d352849d8d06883448ea6c7e8858);\n",
              "            \n",
              "        \n",
              "\n",
              "        marker_f07a3f1ca78cfb5e0b9acd29a217d0cd.bindPopup(popup_e66444c468a42937b35af65d8f352caa)\n",
              "        ;\n",
              "\n",
              "        \n",
              "    \n",
              "&lt;/script&gt;\n",
              "&lt;/html&gt;\" style=\"position:absolute;width:100%;height:100%;left:0;top:0;border:none !important;\" allowfullscreen webkitallowfullscreen mozallowfullscreen></iframe></div></div>"
            ]
          },
          "metadata": {},
          "execution_count": 1
        }
      ],
      "source": [
        "# prompt: GIS system using folium\n",
        "\n",
        "import folium\n",
        "\n",
        "# Create a map object with Folium\n",
        "map = folium.Map(location=[40, -95], zoom_start=4)\n",
        "\n",
        "# Add a marker for a specific location\n",
        "folium.Marker(location=[40, -95], popup='Kansas City').add_to(map)\n",
        "\n",
        "# Display the map\n",
        "map\n"
      ]
    },
    {
      "cell_type": "code",
      "source": [
        "import pandas as pd\n",
        "import geopandas as gpd\n",
        "import numpy as np\n",
        "import folium\n",
        "from folium import Marker\n",
        "import warnings\n",
        "warnings.filterwarnings('ignore')"
      ],
      "metadata": {
        "id": "Lu2GCC58okLj"
      },
      "execution_count": 2,
      "outputs": []
    },
    {
      "cell_type": "code",
      "source": [
        "from geopy.geocoders import Nominatim\n",
        "# In the code cell above, Nominatim refers to the geocoding software that will be used to generate locations.\n"
      ],
      "metadata": {
        "id": "mqmYQ9i5pU-a"
      },
      "execution_count": 7,
      "outputs": []
    },
    {
      "cell_type": "markdown",
      "source": [
        "Geocoding\n",
        "Geocoding is the process of converting the name of a place or an address to a location on a map. If you have ever looked up a geographic location based on a landmark description with Google Maps, Bing Maps, or Baidu Maps, for instance, then you have used a geocoder!"
      ],
      "metadata": {
        "id": "rdqVG2VAqrdG"
      }
    },
    {
      "cell_type": "code",
      "source": [
        "geolocator = Nominatim(user_agent=\"kaggle_learn\")\n",
        "location = geolocator.geocode(\"Aarya Residency Pune\")\n",
        "print(location.point)\n",
        "print(location.address)"
      ],
      "metadata": {
        "colab": {
          "base_uri": "https://localhost:8080/"
        },
        "id": "rC7t4kkWqyBa",
        "outputId": "b83bccbc-4779-407d-c43d-e9704c6d088b"
      },
      "execution_count": 8,
      "outputs": [
        {
          "output_type": "stream",
          "name": "stdout",
          "text": [
            "18 28m 11.4773s N, 73 48m 38.9326s E\n",
            "Aarya Residency, Prayeja City Road, Manik Baug, Pune City, Pune, Maharashtra, 411041, India\n"
          ]
        }
      ]
    },
    {
      "cell_type": "code",
      "source": [
        "# read database\n",
        "society = pd.read_csv(\"/kaggle/Society3.csv\")\n",
        "society.head()\n",
        "# Display the map\n",
        "# Create a map object with Folium\n",
        "#m = folium.Map(location=[154, 65], zoom_start=2)\n",
        "#m"
      ],
      "metadata": {
        "id": "Ni4_-b1QrTQh",
        "colab": {
          "base_uri": "https://localhost:8080/",
          "height": 112
        },
        "outputId": "eb3c2b3c-9cb1-470e-b312-1daaaf8a93d4"
      },
      "execution_count": 12,
      "outputs": [
        {
          "output_type": "execute_result",
          "data": {
            "text/plain": [
              "                   Name  Latitude  Longitude\n",
              "0  Aaary Residency Pune  18.47001  73.810844\n",
              "1     Prayeja city Pune  18.46497  73.812480"
            ],
            "text/html": [
              "\n",
              "  <div id=\"df-8f3168b8-5591-4c53-a098-28389dafa911\" class=\"colab-df-container\">\n",
              "    <div>\n",
              "<style scoped>\n",
              "    .dataframe tbody tr th:only-of-type {\n",
              "        vertical-align: middle;\n",
              "    }\n",
              "\n",
              "    .dataframe tbody tr th {\n",
              "        vertical-align: top;\n",
              "    }\n",
              "\n",
              "    .dataframe thead th {\n",
              "        text-align: right;\n",
              "    }\n",
              "</style>\n",
              "<table border=\"1\" class=\"dataframe\">\n",
              "  <thead>\n",
              "    <tr style=\"text-align: right;\">\n",
              "      <th></th>\n",
              "      <th>Name</th>\n",
              "      <th>Latitude</th>\n",
              "      <th>Longitude</th>\n",
              "    </tr>\n",
              "  </thead>\n",
              "  <tbody>\n",
              "    <tr>\n",
              "      <th>0</th>\n",
              "      <td>Aaary Residency Pune</td>\n",
              "      <td>18.47001</td>\n",
              "      <td>73.810844</td>\n",
              "    </tr>\n",
              "    <tr>\n",
              "      <th>1</th>\n",
              "      <td>Prayeja city Pune</td>\n",
              "      <td>18.46497</td>\n",
              "      <td>73.812480</td>\n",
              "    </tr>\n",
              "  </tbody>\n",
              "</table>\n",
              "</div>\n",
              "    <div class=\"colab-df-buttons\">\n",
              "\n",
              "  <div class=\"colab-df-container\">\n",
              "    <button class=\"colab-df-convert\" onclick=\"convertToInteractive('df-8f3168b8-5591-4c53-a098-28389dafa911')\"\n",
              "            title=\"Convert this dataframe to an interactive table.\"\n",
              "            style=\"display:none;\">\n",
              "\n",
              "  <svg xmlns=\"http://www.w3.org/2000/svg\" height=\"24px\" viewBox=\"0 -960 960 960\">\n",
              "    <path d=\"M120-120v-720h720v720H120Zm60-500h600v-160H180v160Zm220 220h160v-160H400v160Zm0 220h160v-160H400v160ZM180-400h160v-160H180v160Zm440 0h160v-160H620v160ZM180-180h160v-160H180v160Zm440 0h160v-160H620v160Z\"/>\n",
              "  </svg>\n",
              "    </button>\n",
              "\n",
              "  <style>\n",
              "    .colab-df-container {\n",
              "      display:flex;\n",
              "      gap: 12px;\n",
              "    }\n",
              "\n",
              "    .colab-df-convert {\n",
              "      background-color: #E8F0FE;\n",
              "      border: none;\n",
              "      border-radius: 50%;\n",
              "      cursor: pointer;\n",
              "      display: none;\n",
              "      fill: #1967D2;\n",
              "      height: 32px;\n",
              "      padding: 0 0 0 0;\n",
              "      width: 32px;\n",
              "    }\n",
              "\n",
              "    .colab-df-convert:hover {\n",
              "      background-color: #E2EBFA;\n",
              "      box-shadow: 0px 1px 2px rgba(60, 64, 67, 0.3), 0px 1px 3px 1px rgba(60, 64, 67, 0.15);\n",
              "      fill: #174EA6;\n",
              "    }\n",
              "\n",
              "    .colab-df-buttons div {\n",
              "      margin-bottom: 4px;\n",
              "    }\n",
              "\n",
              "    [theme=dark] .colab-df-convert {\n",
              "      background-color: #3B4455;\n",
              "      fill: #D2E3FC;\n",
              "    }\n",
              "\n",
              "    [theme=dark] .colab-df-convert:hover {\n",
              "      background-color: #434B5C;\n",
              "      box-shadow: 0px 1px 3px 1px rgba(0, 0, 0, 0.15);\n",
              "      filter: drop-shadow(0px 1px 2px rgba(0, 0, 0, 0.3));\n",
              "      fill: #FFFFFF;\n",
              "    }\n",
              "  </style>\n",
              "\n",
              "    <script>\n",
              "      const buttonEl =\n",
              "        document.querySelector('#df-8f3168b8-5591-4c53-a098-28389dafa911 button.colab-df-convert');\n",
              "      buttonEl.style.display =\n",
              "        google.colab.kernel.accessAllowed ? 'block' : 'none';\n",
              "\n",
              "      async function convertToInteractive(key) {\n",
              "        const element = document.querySelector('#df-8f3168b8-5591-4c53-a098-28389dafa911');\n",
              "        const dataTable =\n",
              "          await google.colab.kernel.invokeFunction('convertToInteractive',\n",
              "                                                    [key], {});\n",
              "        if (!dataTable) return;\n",
              "\n",
              "        const docLinkHtml = 'Like what you see? Visit the ' +\n",
              "          '<a target=\"_blank\" href=https://colab.research.google.com/notebooks/data_table.ipynb>data table notebook</a>'\n",
              "          + ' to learn more about interactive tables.';\n",
              "        element.innerHTML = '';\n",
              "        dataTable['output_type'] = 'display_data';\n",
              "        await google.colab.output.renderOutput(dataTable, element);\n",
              "        const docLink = document.createElement('div');\n",
              "        docLink.innerHTML = docLinkHtml;\n",
              "        element.appendChild(docLink);\n",
              "      }\n",
              "    </script>\n",
              "  </div>\n",
              "\n",
              "\n",
              "<div id=\"df-76620efc-6980-4ab9-abfd-50e1b4b2c4f8\">\n",
              "  <button class=\"colab-df-quickchart\" onclick=\"quickchart('df-76620efc-6980-4ab9-abfd-50e1b4b2c4f8')\"\n",
              "            title=\"Suggest charts\"\n",
              "            style=\"display:none;\">\n",
              "\n",
              "<svg xmlns=\"http://www.w3.org/2000/svg\" height=\"24px\"viewBox=\"0 0 24 24\"\n",
              "     width=\"24px\">\n",
              "    <g>\n",
              "        <path d=\"M19 3H5c-1.1 0-2 .9-2 2v14c0 1.1.9 2 2 2h14c1.1 0 2-.9 2-2V5c0-1.1-.9-2-2-2zM9 17H7v-7h2v7zm4 0h-2V7h2v10zm4 0h-2v-4h2v4z\"/>\n",
              "    </g>\n",
              "</svg>\n",
              "  </button>\n",
              "\n",
              "<style>\n",
              "  .colab-df-quickchart {\n",
              "      --bg-color: #E8F0FE;\n",
              "      --fill-color: #1967D2;\n",
              "      --hover-bg-color: #E2EBFA;\n",
              "      --hover-fill-color: #174EA6;\n",
              "      --disabled-fill-color: #AAA;\n",
              "      --disabled-bg-color: #DDD;\n",
              "  }\n",
              "\n",
              "  [theme=dark] .colab-df-quickchart {\n",
              "      --bg-color: #3B4455;\n",
              "      --fill-color: #D2E3FC;\n",
              "      --hover-bg-color: #434B5C;\n",
              "      --hover-fill-color: #FFFFFF;\n",
              "      --disabled-bg-color: #3B4455;\n",
              "      --disabled-fill-color: #666;\n",
              "  }\n",
              "\n",
              "  .colab-df-quickchart {\n",
              "    background-color: var(--bg-color);\n",
              "    border: none;\n",
              "    border-radius: 50%;\n",
              "    cursor: pointer;\n",
              "    display: none;\n",
              "    fill: var(--fill-color);\n",
              "    height: 32px;\n",
              "    padding: 0;\n",
              "    width: 32px;\n",
              "  }\n",
              "\n",
              "  .colab-df-quickchart:hover {\n",
              "    background-color: var(--hover-bg-color);\n",
              "    box-shadow: 0 1px 2px rgba(60, 64, 67, 0.3), 0 1px 3px 1px rgba(60, 64, 67, 0.15);\n",
              "    fill: var(--button-hover-fill-color);\n",
              "  }\n",
              "\n",
              "  .colab-df-quickchart-complete:disabled,\n",
              "  .colab-df-quickchart-complete:disabled:hover {\n",
              "    background-color: var(--disabled-bg-color);\n",
              "    fill: var(--disabled-fill-color);\n",
              "    box-shadow: none;\n",
              "  }\n",
              "\n",
              "  .colab-df-spinner {\n",
              "    border: 2px solid var(--fill-color);\n",
              "    border-color: transparent;\n",
              "    border-bottom-color: var(--fill-color);\n",
              "    animation:\n",
              "      spin 1s steps(1) infinite;\n",
              "  }\n",
              "\n",
              "  @keyframes spin {\n",
              "    0% {\n",
              "      border-color: transparent;\n",
              "      border-bottom-color: var(--fill-color);\n",
              "      border-left-color: var(--fill-color);\n",
              "    }\n",
              "    20% {\n",
              "      border-color: transparent;\n",
              "      border-left-color: var(--fill-color);\n",
              "      border-top-color: var(--fill-color);\n",
              "    }\n",
              "    30% {\n",
              "      border-color: transparent;\n",
              "      border-left-color: var(--fill-color);\n",
              "      border-top-color: var(--fill-color);\n",
              "      border-right-color: var(--fill-color);\n",
              "    }\n",
              "    40% {\n",
              "      border-color: transparent;\n",
              "      border-right-color: var(--fill-color);\n",
              "      border-top-color: var(--fill-color);\n",
              "    }\n",
              "    60% {\n",
              "      border-color: transparent;\n",
              "      border-right-color: var(--fill-color);\n",
              "    }\n",
              "    80% {\n",
              "      border-color: transparent;\n",
              "      border-right-color: var(--fill-color);\n",
              "      border-bottom-color: var(--fill-color);\n",
              "    }\n",
              "    90% {\n",
              "      border-color: transparent;\n",
              "      border-bottom-color: var(--fill-color);\n",
              "    }\n",
              "  }\n",
              "</style>\n",
              "\n",
              "  <script>\n",
              "    async function quickchart(key) {\n",
              "      const quickchartButtonEl =\n",
              "        document.querySelector('#' + key + ' button');\n",
              "      quickchartButtonEl.disabled = true;  // To prevent multiple clicks.\n",
              "      quickchartButtonEl.classList.add('colab-df-spinner');\n",
              "      try {\n",
              "        const charts = await google.colab.kernel.invokeFunction(\n",
              "            'suggestCharts', [key], {});\n",
              "      } catch (error) {\n",
              "        console.error('Error during call to suggestCharts:', error);\n",
              "      }\n",
              "      quickchartButtonEl.classList.remove('colab-df-spinner');\n",
              "      quickchartButtonEl.classList.add('colab-df-quickchart-complete');\n",
              "    }\n",
              "    (() => {\n",
              "      let quickchartButtonEl =\n",
              "        document.querySelector('#df-76620efc-6980-4ab9-abfd-50e1b4b2c4f8 button');\n",
              "      quickchartButtonEl.style.display =\n",
              "        google.colab.kernel.accessAllowed ? 'block' : 'none';\n",
              "    })();\n",
              "  </script>\n",
              "</div>\n",
              "\n",
              "    </div>\n",
              "  </div>\n"
            ],
            "application/vnd.google.colaboratory.intrinsic+json": {
              "type": "dataframe",
              "summary": "{\n  \"name\": \"#m\",\n  \"rows\": 2,\n  \"fields\": [\n    {\n      \"column\": \"Name\",\n      \"properties\": {\n        \"dtype\": \"string\",\n        \"num_unique_values\": 2,\n        \"samples\": [\n          \"Prayeja city Pune\",\n          \"Aaary Residency Pune\"\n        ],\n        \"semantic_type\": \"\",\n        \"description\": \"\"\n      }\n    },\n    {\n      \"column\": \"Latitude\",\n      \"properties\": {\n        \"dtype\": \"number\",\n        \"std\": 0.0035638181771784254,\n        \"min\": 18.46497,\n        \"max\": 18.47001,\n        \"num_unique_values\": 2,\n        \"samples\": [\n          18.46497,\n          18.47001\n        ],\n        \"semantic_type\": \"\",\n        \"description\": \"\"\n      }\n    },\n    {\n      \"column\": \"Longitude\",\n      \"properties\": {\n        \"dtype\": \"number\",\n        \"std\": 0.0011568266940145768,\n        \"min\": 73.810844,\n        \"max\": 73.81248,\n        \"num_unique_values\": 2,\n        \"samples\": [\n          73.81248,\n          73.810844\n        ],\n        \"semantic_type\": \"\",\n        \"description\": \"\"\n      }\n    }\n  ]\n}"
            }
          },
          "metadata": {},
          "execution_count": 12
        }
      ]
    },
    {
      "cell_type": "code",
      "source": [
        "from geopy.geocoders import Nominatim\n",
        "geolocator = Nominatim(user_agent=\"Pune\")\n",
        "location = geolocator.geocode(\"Aarya Residency\")\n",
        "print(location.point)\n",
        "print(location.address)"
      ],
      "metadata": {
        "id": "8AfDzMKBeuYj",
        "outputId": "ffc247be-9619-420d-8f3f-641b3b4d01bf",
        "colab": {
          "base_uri": "https://localhost:8080/"
        }
      },
      "execution_count": 13,
      "outputs": [
        {
          "output_type": "stream",
          "name": "stdout",
          "text": [
            "18 28m 11.4773s N, 73 48m 38.9326s E\n",
            "Aarya Residency, Prayeja City Road, Manik Baug, Pune City, Pune, Maharashtra, 411041, India\n"
          ]
        }
      ]
    },
    {
      "cell_type": "code",
      "source": [
        "# convert locatin to lat long\n",
        "# importing geopy library and Nominatim class\n",
        "from geopy.geocoders import Nominatim\n",
        "\n",
        "# calling the Nominatim tool and create Nominatim class\n",
        "loc = Nominatim(user_agent=\"Geopy Library\")\n",
        "\n",
        "# entering the location name\n",
        "getLoc = loc.geocode(\"Aarya Residency\")\n",
        "# getLoc = loc.geocode(\"Kothrud Pune\")\n",
        "\n",
        "# printing address\n",
        "print(getLoc.address)\n",
        "print(\"GPS Location : \",location.point)\n",
        "# printing latitude and longitude\n",
        "print(\"Latitude = \", getLoc.latitude)\n",
        "print(\"Longitude = \", getLoc.longitude)"
      ],
      "metadata": {
        "colab": {
          "base_uri": "https://localhost:8080/"
        },
        "id": "4DYixiPKS6MH",
        "outputId": "5b80a1a5-1fbf-4e14-e9de-ed3f92195210"
      },
      "execution_count": 15,
      "outputs": [
        {
          "output_type": "stream",
          "name": "stdout",
          "text": [
            "Aarya Residency, Prayeja City Road, Manik Baug, Pune City, Pune, Maharashtra, 411041, India\n",
            "GPS Location :  18 28m 11.4773s N, 73 48m 38.9326s E\n",
            "Latitude =  18.4698548\n",
            "Longitude =  73.8108146230221\n"
          ]
        }
      ]
    },
    {
      "cell_type": "code",
      "source": [
        " #Create a map and mark locations\n",
        "\n",
        "m = folium.Map(location=[154, 85], tiles='openstreetmap', zoom_start=2)\n",
        "\n",
        "# Add points to the map\n",
        "for idx, row in society.iterrows():\n",
        "    Marker([row['Latitude'], row['Longitude']], popup=row['Name']).add_to(m)\n",
        "\n",
        "# Display the map\n",
        "m"
      ],
      "metadata": {
        "id": "bj8Ux7Tq7py6"
      },
      "execution_count": null,
      "outputs": []
    },
    {
      "cell_type": "code",
      "source": [
        "# for exact lat long https://www.latlong.net/\n",
        "#  https://github.com/afourmy/pyGISS.git   A lightweight GIS Software in less than 100 lines of code\n",
        "# https://www.kaggle.com/code/alexisbcook/manipulating-geospatial-data/tutorial"
      ],
      "metadata": {
        "id": "ZmR4b8K7bGDW"
      },
      "execution_count": null,
      "outputs": []
    },
    {
      "cell_type": "markdown",
      "source": [
        "\n",
        "### We will use a python library named ip2geotools that allows you to determine the physical location of an IP address. This can determine an IP address's country, region, city, latitude, and longitude."
      ],
      "metadata": {
        "id": "SZwz9nRl7xo5"
      }
    },
    {
      "cell_type": "code",
      "source": [
        "!pip install ip2geotools\n",
        "\n",
        "import socket\n",
        "import requests\n",
        "from ip2geotools.databases.noncommercial import DbIpCity\n",
        "from geopy.distance import distance\n",
        "\n",
        "def printDetails(ip):\n",
        "    res = DbIpCity.get(ip, api_key=\"free\")\n",
        "    print(f\"IP Address: {res.ip_address}\")\n",
        "    print(f\"Location: {res.city}, {res.region}, {res.country}\")\n",
        "    print(f\"Coordinates: (Lat: {res.latitude}, Lng: {res.longitude})\")\n",
        "\n",
        "ip_add = input(\"Enter IP: \")  # 198.35.26.96\n",
        "printDetails(ip_add)\n",
        "\n",
        "# Getting Location from a URL\n",
        "\n",
        "url = input(\"Enter URL: \")  # www.youtube.com\n",
        "ip_add = socket.gethostbyname(url)\n",
        "printDetails(ip_add)\n"
      ],
      "metadata": {
        "id": "7wiO-7Tv77iF"
      },
      "execution_count": null,
      "outputs": []
    },
    {
      "cell_type": "code",
      "source": [
        "# block certain ip\n",
        "\n",
        "def is_country_blocked(ip_address):\n",
        "    blocked_countries = [\"China\", \"Canada\", \"India\"]\n",
        "    location = DbIpCity.get(ip_address)\n",
        "    if location.country in blocked_countries:\n",
        "        return True\n",
        "    else:\n",
        "        return False\n",
        "\n",
        "ip_add = input(\"Enter IP: \")  # 198.35.26.96\n",
        "if is_country_blocked(ip_add) is True:\n",
        "    print(f\"IP Address: {ip_add} is blocked\")\n",
        "else:\n",
        "    print(f\"IP Address: {ip_add} is allowed\")"
      ],
      "metadata": {
        "id": "mdUIe4At8zPk"
      },
      "execution_count": null,
      "outputs": []
    },
    {
      "cell_type": "code",
      "source": [
        "# distance between two ip\n",
        "\n",
        "def calculate_distance(ip1, ip2):\n",
        "    res1 = DbIpCity.get(ip1)\n",
        "    res2 = DbIpCity.get(ip2)\n",
        "    lat1, lon1 = res1.latitude, res1.longitude\n",
        "    lat2, lon2 = res2.latitude, res2.longitude\n",
        "    return distance((lat1, lon1), (lat2, lon2)).km\n",
        "\n",
        "# Input two IP addresses\n",
        "ip_add_1 = input(\"1st IP: \")  # 198.35.26.96\n",
        "ip_add_2 = input(\"2nd IP: \")  # 220.158.144.59\n",
        "dist = calculate_distance(ip_add_1, ip_add_2)\n",
        "print(f\"Distance between them is {str(dist)}km\")"
      ],
      "metadata": {
        "id": "oq8B-YPG86uD"
      },
      "execution_count": null,
      "outputs": []
    },
    {
      "cell_type": "code",
      "source": [
        "# your location and server distance\n",
        "\n",
        "def get_distance_from_location(ip, lat, lon):\n",
        "    res = DbIpCity.get(ip)\n",
        "    ip_lat, ip_lon = res.latitude, res.longitude\n",
        "    return distance((ip_lat, ip_lon), (lat, lon)).km\n",
        "\n",
        "server_ip = input(\"Server's IP: \")\n",
        "lat = float(input(\"Your Latitude: \"))\n",
        "lng = float(input(\"Your Longitude: \"))\n",
        "\n",
        "dist = get_distance_from_location(server_ip, lat, lng)\n",
        "print(f\"Distance between the server and your location is {str(dist)}km\")"
      ],
      "metadata": {
        "id": "a2eutaTd9Xcd"
      },
      "execution_count": null,
      "outputs": []
    }
  ]
}