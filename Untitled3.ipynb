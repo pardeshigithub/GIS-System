{
  "nbformat": 4,
  "nbformat_minor": 0,
  "metadata": {
    "colab": {
      "provenance": [],
      "authorship_tag": "ABX9TyNZFw67adGYtyFMkhlcF5jt",
      "include_colab_link": true
    },
    "kernelspec": {
      "name": "python3",
      "display_name": "Python 3"
    },
    "language_info": {
      "name": "python"
    }
  },
  "cells": [
    {
      "cell_type": "markdown",
      "metadata": {
        "id": "view-in-github",
        "colab_type": "text"
      },
      "source": [
        "<a href=\"https://colab.research.google.com/github/pardeshigithub/GIS-System/blob/main/Untitled3.ipynb\" target=\"_parent\"><img src=\"https://colab.research.google.com/assets/colab-badge.svg\" alt=\"Open In Colab\"/></a>"
      ]
    },
    {
      "cell_type": "code",
      "execution_count": null,
      "metadata": {
        "id": "KOinMSDHDUZE"
      },
      "outputs": [],
      "source": [
        "# prompt: GIS system using folium\n",
        "\n",
        "import folium\n",
        "\n",
        "# Create a map object with Folium\n",
        "map = folium.Map(location=[40, -95], zoom_start=4)\n",
        "\n",
        "# Add a marker for a specific location\n",
        "folium.Marker(location=[40, -95], popup='Kansas City').add_to(map)\n",
        "\n",
        "# Display the map\n",
        "map"
      ]
    },
    {
      "cell_type": "code",
      "source": [
        "# prompt: GIS system using folium\n",
        "\n",
        "import folium\n",
        "\n",
        "# Create a map object with Folium\n",
        "map = folium.Map(location=[40, -95], zoom_start=4)\n",
        "\n",
        "# Add a marker to the map\n",
        "marker = folium.Marker(location=[40, -95], popup='Hello Folium!')\n",
        "map.add_child(marker)\n",
        "\n",
        "# Display the map\n",
        "map\n"
      ],
      "metadata": {
        "id": "OdWnC9o9DWUk"
      },
      "execution_count": null,
      "outputs": []
    },
    {
      "cell_type": "code",
      "source": [
        "# prompt: GIS system using folium\n",
        "\n",
        "import folium\n",
        "\n",
        "# Create a map object with Folium\n",
        "map = folium.Map(location=[37.53897093698439, 127.05413487789985], zoom_start=12)\n",
        "\n",
        "# Add a marker to the map\n",
        "marker = folium.Marker([37.53897093698439, 127.05413487789985], popup='KM Tower')\n",
        "map.add_child(marker)\n",
        "\n",
        "# Display the map\n",
        "map\n"
      ],
      "metadata": {
        "id": "J0saUV5ADaUi"
      },
      "execution_count": null,
      "outputs": []
    },
    {
      "cell_type": "code",
      "source": [
        "# prompt: GIS system using folium\n",
        "\n",
        "import folium\n",
        "\n",
        "# Create a map object with Folium.\n",
        "map = folium.Map(location=[40.7128, -74.0060], zoom_start=12)\n",
        "\n",
        "# Add a marker to the map.\n",
        "marker = folium.Marker(location=[40.7128, -74.0060], popup='Times Square')\n",
        "map.add_child(marker)\n",
        "\n",
        "# Display the map.\n",
        "map\n"
      ],
      "metadata": {
        "id": "l2B-qleGDegP"
      },
      "execution_count": null,
      "outputs": []
    }
  ]
}